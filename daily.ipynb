{
 "cells": [
  {
   "cell_type": "code",
   "execution_count": 39,
   "metadata": {},
   "outputs": [],
   "source": [
    "from pathlib import Path\n",
    "import re\n",
    "import pandas as pd\n"
   ]
  },
  {
   "cell_type": "code",
   "execution_count": 45,
   "metadata": {},
   "outputs": [],
   "source": [
    "def read_input(x:int)->any:\n",
    "    data_dir = Path(\"./data\")\n",
    "    filename = data_dir/f\"input_{x}.txt\"\n",
    "    with open(filename,'r') as file:\n",
    "        data = [x.strip() for x in file.readlines()]\n",
    "    return data\n",
    "\n",
    "def pretty_print(q:int, ans_1:int=0, ans_2:int=0)->None:\n",
    "    print(f\"Answer for Ques {q}\\nPart 1:\\t{ans_1}\\nPart 2:\\t{ans_2}\")\n",
    "\n",
    "numbers_str = [\"one\", \"two\", \"three\", \"four\", \"five\", \"six\", \"seven\", \"eight\",\"nine\"]\n",
    "numbers_map = dict(zip(numbers_str, range(1,10)))\n",
    "\n",
    "def assert_answer(q:int, ans_1:int=0, ans_2:int=0)->None:\n",
    "    ans = list(pd.read_csv(\"results.csv\").set_index(\"question\").loc[1])\n",
    "    assert ans == [ans_1, ans_2], f\"Incorrect Answer for Ques {q}\"\n"
   ]
  },
  {
   "cell_type": "code",
   "execution_count": 46,
   "metadata": {},
   "outputs": [
    {
     "name": "stdout",
     "output_type": "stream",
     "text": [
      "Answer for Ques 1\n",
      "Part 1:\t54331\n",
      "Part 2:\t54518\n"
     ]
    }
   ],
   "source": [
    "# Day 1\n",
    "\n",
    "def extract_int(elem:str, reg_pattern:str)->int:\n",
    "    digits = map(lambda x: x.group(1) , re.finditer(reg_pattern, elem) )\n",
    "    digits = list(map(lambda x: str(numbers_map.get(x,x) ), digits ) )\n",
    "    if len(digits) == 0:\n",
    "        return 0\n",
    "    return int(digits[0] + digits[-1])\n",
    "\n",
    "def solve_1_1() -> int:\n",
    "    reg_pattern = r\"(?=(\\d))\"\n",
    "    return sum(map( lambda x: extract_int(x, reg_pattern), read_input(1)))\n",
    "\n",
    "def solve_1_2() -> int:\n",
    "    reg_pattern = r\"(?=(\\d|\" + \"|\".join(numbers_str) + \"))\"\n",
    "    return sum(map( lambda x: extract_int(x, reg_pattern), read_input(1)))\n",
    "\n",
    "ans_1 = solve_1_1()\n",
    "ans_2 = solve_1_2()\n",
    "pretty_print(1, ans_1, ans_2)\n",
    "assert_answer( 1, ans_1, ans_2 )\n"
   ]
  },
  {
   "cell_type": "code",
   "execution_count": null,
   "metadata": {},
   "outputs": [],
   "source": []
  }
 ],
 "metadata": {
  "kernelspec": {
   "display_name": "Python 3",
   "language": "python",
   "name": "python3"
  },
  "language_info": {
   "codemirror_mode": {
    "name": "ipython",
    "version": 3
   },
   "file_extension": ".py",
   "mimetype": "text/x-python",
   "name": "python",
   "nbconvert_exporter": "python",
   "pygments_lexer": "ipython3",
   "version": "3.9.6"
  }
 },
 "nbformat": 4,
 "nbformat_minor": 2
}
